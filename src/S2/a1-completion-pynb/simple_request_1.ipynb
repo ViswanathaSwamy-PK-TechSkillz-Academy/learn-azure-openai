{
 "cells": [
  {
   "cell_type": "code",
   "execution_count": null,
   "metadata": {},
   "outputs": [],
   "source": [
    "import os\n",
    "import requests\n",
    "from dotenv import dotenv_values\n",
    "\n",
    "# Load config values\n",
    "config_details = dotenv_values(\".env\")\n",
    "\n",
    "# Request URL\n",
    "api_url = f\"{config_details['OPENAI_API_BASE']}/openai/deployments/{config_details['OPENAI_ENGINE']}/completions?api-version={config_details['OPENAI_API_VERSION']}\"\n",
    "# print(api_url)\n",
    "\n",
    "# Example prompt for request payload\n",
    "# prompt = \"Tell me two jokes on intelligent people\"\n",
    "prompt = \"Give me a single-liner tweet for my 1001 dosa center homemade spices with love\"\n",
    "# prompt = \"Input: Please tell me two jokes on Software engineer\"\n",
    "\n",
    "# Json payload\n",
    "# To know more about the parameters, checkout this documentation: https://learn.microsoft.com/en-us/azure/cognitive-services/openai/reference\n",
    "json_data = {\n",
    "    \"prompt\": prompt,\n",
    "    \"temperature\": 0,\n",
    "    \"max_tokens\": 100,\n",
    "    \"echo\": True,\n",
    "}\n",
    "\n",
    "# Including the api-key in HTTP headers\n",
    "headers = {\"api-key\": os.getenv(\"OPENAI_API_KEY\")}\n",
    "# print(headers)\n",
    "\n",
    "try:\n",
    "    # Request for creating a completion for the provided prompt and parameters\n",
    "    response = requests.post(api_url, json=json_data, headers=headers)\n",
    "    completion = response.json()\n",
    "\n",
    "    # print the completion\n",
    "    print(completion['choices'][0]['text'])\n",
    "\n",
    "    # Here indicating if the response is filtered\n",
    "    if completion['choices'][0]['finish_reason'] == \"content_filter\":\n",
    "        print(\"The generated content is filtered.\")\n",
    "except:\n",
    "    print(\"An exception has occurred. \\n\")\n",
    "    print(\"Error Message:\", completion['error']['message'])"
   ]
  }
 ],
 "metadata": {
  "kernelspec": {
   "display_name": "pvenv",
   "language": "python",
   "name": "python3"
  },
  "language_info": {
   "codemirror_mode": {
    "name": "ipython",
    "version": 3
   },
   "file_extension": ".py",
   "mimetype": "text/x-python",
   "name": "python",
   "nbconvert_exporter": "python",
   "pygments_lexer": "ipython3",
   "version": "3.11.6"
  },
  "orig_nbformat": 4
 },
 "nbformat": 4,
 "nbformat_minor": 2
}
