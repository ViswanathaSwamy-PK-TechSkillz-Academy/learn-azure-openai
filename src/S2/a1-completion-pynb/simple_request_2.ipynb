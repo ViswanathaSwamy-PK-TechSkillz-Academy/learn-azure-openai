{
 "cells": [
  {
   "cell_type": "code",
   "execution_count": null,
   "metadata": {},
   "outputs": [],
   "source": [
    "import os\n",
    "import openai\n",
    "\n",
    "from dotenv import dotenv_values"
   ]
  },
  {
   "cell_type": "code",
   "execution_count": null,
   "metadata": {},
   "outputs": [],
   "source": [
    "# Load config values\n",
    "config_details = dotenv_values(\".env\")\n",
    "\n",
    "openai.api_type = \"azure\"\n",
    "openai.api_base = config_details['OPENAI_API_BASE']\n",
    "\n",
    "openai.api_version = config_details['OPENAI_API_VERSION']\n",
    "\n",
    "openai.api_key = os.getenv(\"OPENAI_API_KEY\")"
   ]
  },
  {
   "cell_type": "code",
   "execution_count": null,
   "metadata": {},
   "outputs": [],
   "source": [
    "# Example prompt for request payload\n",
    "prompt = \"Tell me two jokes on intelligent people\"\n",
    "# prompt = \"Give me a single-liner tweet for my 1001 dosa center homemade spices with love\"\n",
    "# prompt = \"Input: Please tell me two jokes on Software engineer\"\n",
    "\n",
    "try:\n",
    "    completion = openai.Completion.create(\n",
    "        engine=config_details['COMPLETIONS_MODEL'],\n",
    "        prompt=prompt,\n",
    "        temperature=1,\n",
    "        max_tokens=100,\n",
    "        top_p=0.5,\n",
    "        frequency_penalty=0,\n",
    "        presence_penalty=0,\n",
    "        best_of=1,\n",
    "        stop=None)\n",
    "\n",
    "    # print the completion\n",
    "    print(completion['choices'][0]['text'])\n",
    "\n",
    "    # Here indicating if the response is filtered\n",
    "    if completion['choices'][0]['finish_reason'] == \"content_filter\":\n",
    "        print(\"The generated content is filtered.\")\n",
    "\n",
    "    print(completion)\n",
    "except:\n",
    "    print(\"An exception has occurred. \\n\")\n",
    "    print(\"Error Message:\", completion['error']['message'])\n"
   ]
  }
 ],
 "metadata": {
  "kernelspec": {
   "display_name": "pvenv",
   "language": "python",
   "name": "python3"
  },
  "language_info": {
   "codemirror_mode": {
    "name": "ipython",
    "version": 3
   },
   "file_extension": ".py",
   "mimetype": "text/x-python",
   "name": "python",
   "nbconvert_exporter": "python",
   "pygments_lexer": "ipython3",
   "version": "3.11.4"
  },
  "orig_nbformat": 4
 },
 "nbformat": 4,
 "nbformat_minor": 2
}
